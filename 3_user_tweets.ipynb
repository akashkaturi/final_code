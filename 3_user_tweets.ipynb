{
 "cells": [
  {
   "cell_type": "code",
   "execution_count": 1,
   "metadata": {},
   "outputs": [],
   "source": [
    "import tweepy as tw\n",
    "import json\n",
    "from tweepy import OAuthHandler\n",
    "import pandas as pd\n"
   ]
  },
  {
   "cell_type": "code",
   "execution_count": 2,
   "metadata": {},
   "outputs": [],
   "source": [
    "with open('f.json') as f:\n",
    "    data = json.load(f)\n",
    "API_KEY = data['apikey']\n",
    "SECRET_KEY = data['apikeysecret']\n",
    "ACCESS_TOKEN = data['accesstoken']\n",
    "SECRET_TOKEN = data['accesstokensecret']\n",
    "auth = tw.OAuthHandler(API_KEY, SECRET_KEY)\n",
    "auth.set_access_token(ACCESS_TOKEN, SECRET_TOKEN)\n",
    "api = tw.API(auth, wait_on_rate_limit=True)\n"
   ]
  },
  {
   "cell_type": "code",
   "execution_count": 11,
   "metadata": {},
   "outputs": [],
   "source": [
    "users=pd.read_csv('User_Tweets.csv')\n",
    "users=users.drop(labels=['Unnamed: 0'],axis=1)\n"
   ]
  },
  {
   "cell_type": "code",
   "execution_count": 37,
   "metadata": {},
   "outputs": [],
   "source": [
    "user_name = 'harsha092'\n",
    "tweets = api.user_timeline(screen_name=user_name, count=200,\n",
    "                           include_rts=False, tweet_mode='extended')\n",
    "all_tweets = []\n",
    "tweet_text=[]\n",
    "for tweet in tweets:\n",
    "    info = {\n",
    "        'ID': tweet.id,\n",
    "        'Date_time_posted': str(tweet.created_at),\n",
    "        'Text': tweet.full_text.encode('utf-8'),\n",
    "    }\n",
    "    tweet_text.append(tweet.full_text.encode('utf-8').strip())\n",
    "    all_tweets.append(info)\n",
    "\n"
   ]
  },
  {
   "cell_type": "code",
   "execution_count": 42,
   "metadata": {},
   "outputs": [
    {
     "data": {
      "text/plain": [
       "0"
      ]
     },
     "execution_count": 42,
     "metadata": {},
     "output_type": "execute_result"
    }
   ],
   "source": [
    "len(tweets)"
   ]
  },
  {
   "cell_type": "code",
   "execution_count": 43,
   "metadata": {},
   "outputs": [
    {
     "data": {
      "text/plain": [
       "[b'@INCMP Chhattisgarh aur jharkhand ko option me q ni rkha?? Waha adivasi ni rehte?.',\n",
       " b'What is trending on twitter is just shamefull #happychildrensday',\n",
       " b'Chinese propaganda videos (inventions,gym,food) is all over Indian Instagram reels and meme pages...This is a calculated way to fool Indian users and create some sympathy or attraction towards China .. @ianuragthakur @HmlEmpire',\n",
       " b'@CricCrazyJohns If he becomes then Wow',\n",
       " b'Congress is the B of BJP @INCIndia @BJP4India',\n",
       " b\"@varungandhi80 Shame shame shame....it's fucking treason...why your party awarding her...10-15saal baad log jb dekhnge tb ka v socho...\",\n",
       " b\"Salman Khurshid is old now...take rest don't go down like Hamid Ansari.. #ayodhya\",\n",
       " b'@INCIndia is the new left ...',\n",
       " b'This idiot is shame for the nation... #kanganaranuat',\n",
       " b'@IrfanPathan I respectfully disagree... Williamson Guptil and Boult are literally stars ...',\n",
       " b'@IndiaOurHome1 @IamSanjuSamson Inconsistent nigga',\n",
       " b\"@nawabmalikncp Let's put some dirt in their eyes....\",\n",
       " b\"#sunilgavaskar is kinda weird as usual...Ipl is more imp than T20 WC.. doubting rohit even before his permanent tenure started... What's wrong Oldie\",\n",
       " b\"Ok @ImRo45 is the new capt... Let's hope we win in 2022\",\n",
       " b\"@theskindoctor13 Ok..Yamuna is only Delhi's Local river?? Haryana and Up @BJP4India @AamAadmiParty\",\n",
       " b'@DelhiCapitals Less Mumbai Caucus now India has Delhi caucus...',\n",
       " b\"Every Indian cric players...ravi bhai ravi bhai...\\nLet's see What Rahul BHAI will do...\",\n",
       " b'Woke Virat Kohli has #toxic fan club...match made in heaven @vikrantgupta73',\n",
       " b'@ndtv Why are liquors in that state is the main question...',\n",
       " b'@OfficeofNM Yay!!!',\n",
       " b'Happy Diwali',\n",
       " b'@thevirdas Tbh no offense....but chutiya ho kya??',\n",
       " b\"@RanaAyyub @nazir_lord One day he'll join @BJP4India and get a pic with honorable @AmitShah or @narendramodi you'll be a hypocrite as always...\",\n",
       " b'Pls conduct a referendum and declare them as independent states.... #Tharoor https://t.co/WuNXrJ8fWP',\n",
       " b\"@vampirinaaaa Huehuehuehue... Pakistan has qualified for the semis tbh good team played well...But still Pakistan is a terror hub not a safe place to breathe...don't believe me...I guess future will be kinder to me..\",\n",
       " b'Tbh @nawabmalikncp op',\n",
       " b'@rajasthanroyals Love : Joss Buttler\\nBut : Rajasthan Royals...',\n",
       " b'Up and Bihar govt ...why this wokism??',\n",
       " b'@SushantNMehta England turned the toss thing.... @Eoin16 @josbuttler',\n",
       " b\"Attacking ict for defending @MdShami11 ...The one who are doing this are the one's who were abusing him before...The language is changed .. #Communals..\",\n",
       " b'@Sahastranshu19 @ndtvfeed @JM_Scindia @AAI_Official @aaiRanchiApt @Jaipur_Airport Indeed',\n",
       " b'@ndtvfeed That is remarkable....',\n",
       " b'@ItsShubhangi Yep...Come home burn some crackers , eat soan papdi and have fun with fam and friends... @imVkohli @BCCI',\n",
       " b'Sees @narendramodi as the supreme leader of India and has more respect towards him than himself... So yes @BJP4India is not going anywhere...Powerfull pictures are circulating every where of Modi @JoeBiden @EmmanuelMacron @trpresidency..Be scared congress you are finished...',\n",
       " b\"The others who work are working from home...That's the deal @INCIndia needs to understand...Govt employees kids are the ones who are working for It and other Work from sector companies...they don't give a fuck about the price rise...and the one's who are waiting for govt jobs\",\n",
       " b'Where is the protest on price rise...not by the oppst parties...they are useless in India now...But by the people who are paying?? covid is not only saving maharastra govt from falling but also saving Modi govt from protest...As only 1-2 member of the fam is going to work',\n",
       " b'@dhruv_rathee Are that dumb ??? Comparing 29Rs to 3000$??',\n",
       " b\"@dhruv_rathee Huehuehuehue....let's see who the voters vote...\",\n",
       " b'@ABPNews \\xe0\\xa4\\x95\\xe0\\xa5\\x8d\\xe0\\xa4\\xaf\\xe0\\xa4\\xbe tweet \\xe0\\xa4\\x95\\xe0\\xa4\\xb0\\xe0\\xa4\\xa4\\xe0\\xa5\\x87 \\xe0\\xa4\\xb9\\xe0\\xa5\\x8b \\xe0\\xa4\\x95\\xe0\\xa5\\x81\\xe0\\xa4\\x9b \\xe0\\xa4\\x85\\xe0\\xa4\\xa4\\xe0\\xa4\\xbe \\xe0\\xa4\\xaa\\xe0\\xa4\\xa4\\xe0\\xa4\\xbe \\xe0\\xa4\\xb0\\xe0\\xa4\\xb9\\xe0\\xa4\\xa4\\xe0\\xa4\\xbe \\xe0\\xa4\\xb9\\xe0\\xa5\\x88 \\xe0\\xa4\\x95\\xe0\\xa4\\xbf \\xe0\\xa4\\xa8\\xe0\\xa4\\xb9\\xe0\\xa5\\x80\\xe0\\xa4\\x82?? \\xe0\\xa4\\x85\\xe0\\xa4\\xa6\\xe0\\xa4\\xbe\\xe0\\xa4\\xa8\\xe0\\xa5\\x80 \\xe0\\xa4\\xaa\\xe0\\xa5\\x8b\\xe0\\xa4\\xb0\\xe0\\xa5\\x8d\\xe0\\xa4\\x9f \\xe0\\xa4\\x94\\xe0\\xa4\\xb0 \\xe0\\xa4\\x95\\xe0\\xa5\\x8d\\xe0\\xa4\\xb0\\xe0\\xa5\\x82\\xe0\\xa4\\x9c \\xe0\\xa4\\xb6\\xe0\\xa4\\xbf\\xe0\\xa4\\xaa \\xe0\\xa4\\xae\\xe0\\xa5\\x87\\xe0\\xa4\\x82 \\xe0\\xa4\\x9c\\xe0\\xa5\\x8b \\xe0\\xa4\\xae\\xe0\\xa4\\xbf\\xe0\\xa4\\xb2\\xe0\\xa4\\xbe \\xe0\\xa4\\xb9\\xe0\\xa5\\x88 \\xe0\\xa4\\xb5\\xe0\\xa4\\xb9 \\xe0\\xa4\\x86\\xe0\\xa4\\xaa\\xe0\\xa4\\x95\\xe0\\xa5\\x87 \\xe0\\xa4\\x91\\xe0\\xa4\\xab\\xe0\\xa4\\xbf\\xe0\\xa4\\xb8 \\xe0\\xa4\\xae\\xe0\\xa5\\x87\\xe0\\xa4\\x82 \\xe0\\xa4\\xad\\xe0\\xa5\\x80 \\xe0\\xa4\\xae\\xe0\\xa4\\xbf\\xe0\\xa4\\xb2 \\xe0\\xa4\\xb0\\xe0\\xa4\\xb9\\xe0\\xa4\\xbe \\xe0\\xa4\\xb9\\xe0\\xa5\\x88 \\xe0\\xa4\\x95\\xe0\\xa5\\x8d\\xe0\\xa4\\xaf\\xe0\\xa4\\xbe?',\n",
       " b'@Sahastranshu19 Congress is B team of Bjp',\n",
       " b'@digvijaya_28 \\xe0\\xa4\\xaa\\xe0\\xa5\\x8d\\xe0\\xa4\\xb0\\xe0\\xa4\\xb6\\xe0\\xa4\\xbe\\xe0\\xa4\\x82\\xe0\\xa4\\xa4 \\xe0\\xa4\\x95\\xe0\\xa4\\xbf\\xe0\\xa4\\xb6\\xe0\\xa5\\x8b\\xe0\\xa4\\xb0 \\xe0\\xa4\\x95\\xe0\\xa4\\xbe \\xe0\\xa4\\xa8\\xe0\\xa4\\xaf\\xe0\\xa4\\xbe \\xe0\\xa4\\xb5\\xe0\\xa5\\x80\\xe0\\xa4\\xa1\\xe0\\xa4\\xbf\\xe0\\xa4\\xaf\\xe0\\xa5\\x8b \\xe0\\xa4\\xa6\\xe0\\xa5\\x87\\xe0\\xa4\\x96\\xe0\\xa4\\xbf\\xe0\\xa4\\x8f \\xe0\\xa4\\x89\\xe0\\xa4\\xb8\\xe0\\xa4\\xa8\\xe0\\xa5\\x87 \\xe0\\xa4\\xac\\xe0\\xa4\\xa4\\xe0\\xa4\\xbe\\xe0\\xa4\\xaf\\xe0\\xa4\\xbe \\xe0\\xa4\\xb9\\xe0\\xa5\\x88 \\xe0\\xa4\\x95\\xe0\\xa4\\xbf \\xe0\\xa4\\x95\\xe0\\xa4\\xbe\\xe0\\xa4\\x82\\xe0\\xa4\\x97\\xe0\\xa5\\x8d\\xe0\\xa4\\xb0\\xe0\\xa5\\x87\\xe0\\xa4\\xb8 \\xe0\\xa4\\xaa\\xe0\\xa4\\xbe\\xe0\\xa4\\xb0\\xe0\\xa5\\x8d\\xe0\\xa4\\x9f\\xe0\\xa5\\x80 \\xe0\\xa4\\xae\\xe0\\xa5\\x87\\xe0\\xa4\\x82 \\xe0\\xa4\\xa8\\xe0\\xa4\\xbe \\xe0\\xa4\\x95\\xe0\\xa4\\xad\\xe0\\xa5\\x80 \\xe0\\xa4\\x97\\xe0\\xa5\\x81\\xe0\\xa4\\xb0\\xe0\\xa5\\x8d\\xe0\\xa4\\xa6\\xe0\\xa4\\xbe \\xe0\\xa4\\xa5\\xe0\\xa4\\xbe \\xe0\\xa4\\xa8\\xe0\\xa4\\xbe \\xe0\\xa4\\x95\\xe0\\xa4\\xad\\xe0\\xa5\\x80 \\xe0\\xa4\\x97\\xe0\\xa5\\x81\\xe0\\xa4\\xb0\\xe0\\xa5\\x8d\\xe0\\xa4\\xa6\\xe0\\xa4\\xbe \\xe0\\xa4\\x86\\xe0\\xa4\\x8f\\xe0\\xa4\\x97\\xe0\\xa4\\xbe \\xe0\\xa4\\x85\\xe0\\xa4\\xac \\xe0\\xa4\\x96\\xe0\\xa5\\x88\\xe0\\xa4\\xb0 \\xe0\\xa4\\xb0\\xe0\\xa4\\xbe\\xe0\\xa4\\xb9\\xe0\\xa5\\x81\\xe0\\xa4\\xb2 \\xe0\\xa4\\x97\\xe0\\xa4\\xbe\\xe0\\xa4\\x82\\xe0\\xa4\\xa7\\xe0\\xa5\\x80 \\xe0\\xa4\\xa8\\xe0\\xa5\\x87 \\xe0\\xa4\\x95\\xe0\\xa4\\xbe\\xe0\\xa4\\x82\\xe0\\xa4\\x97\\xe0\\xa5\\x8d\\xe0\\xa4\\xb0\\xe0\\xa5\\x87\\xe0\\xa4\\xb8 \\xe0\\xa4\\xaa\\xe0\\xa4\\xbe\\xe0\\xa4\\xb0\\xe0\\xa5\\x8d\\xe0\\xa4\\x9f\\xe0\\xa5\\x80 \\xe0\\xa4\\x95\\xe0\\xa5\\x8b \\xe0\\xa4\\xb5\\xe0\\xa4\\xbe\\xe0\\xa4\\xae\\xe0\\xa4\\xaa\\xe0\\xa4\\x82\\xe0\\xa4\\xa5\\xe0\\xa5\\x80 \\xe0\\xa4\\xaa\\xe0\\xa4\\xbe\\xe0\\xa4\\xb0\\xe0\\xa5\\x8d\\xe0\\xa4\\x9f\\xe0\\xa5\\x80 \\xe0\\xa4\\xac\\xe0\\xa4\\xa8\\xe0\\xa4\\xbe\\xe0\\xa4\\xa8\\xe0\\xa5\\x87 \\xe0\\xa4\\x95\\xe0\\xa5\\x80 \\xe0\\xa4\\xa0\\xe0\\xa4\\xbe\\xe0\\xa4\\xa8 \\xe0\\xa4\\xb9\\xe0\\xa5\\x80 \\xe0\\xa4\\xb2\\xe0\\xa5\\x80 \\xe0\\xa4\\xb9\\xe0\\xa5\\x88 \\xe0\\xa4\\xa4\\xe0\\xa5\\x8b \\xe0\\xa4\\x95\\xe0\\xa5\\x8d\\xe0\\xa4\\xaf\\xe0\\xa4\\xbe \\xe0\\xa4\\xb9\\xe0\\xa5\\x80 \\xe0\\xa4\\x95\\xe0\\xa4\\xb0 \\xe0\\xa4\\xb8\\xe0\\xa4\\x95\\xe0\\xa4\\xa4\\xe0\\xa5\\x87 \\xe0\\xa4\\xb9\\xe0\\xa5\\x88\\xe0\\xa4\\x82 \\xe0\\xa4\\xb8\\xe0\\xa4\\xb9\\xe0\\xa5\\x80 \\xe0\\xa4\\xb9\\xe0\\xa5\\x88 \\xe0\\xa5\\xa4 @',\n",
       " b'@CricCrazyJohns Wtf...',\n",
       " b\"@JhaSanjay Who will defeat ... disastrous current oppst can't be a good time govt...Oppst don't have even trust of 25% of the voter...that's it\",\n",
       " b'@nawabmalikncp What are you doing Sir??',\n",
       " b'@ANI \\xf0\\x9f\\x98\\x82\\xf0\\x9f\\x98\\x82\\xf0\\x9f\\x98\\x82\\xf0\\x9f\\x98\\x82\\xf0\\x9f\\x98\\x82Which kind of family gets divided during IndPak match..?',\n",
       " b'@Sonal_MK For kids???',\n",
       " b\"@mufaddal_vohra If he can't bowl then he is out...\",\n",
       " b'Hahaahha true af... @\\n#raulgandy https://t.co/FgzYopm3H4',\n",
       " b'Hey @MdShami11 just chill...let these dogs bark.. @BCCI @imVkohli',\n",
       " b\"If hardik pandya can't bowl ...why he is in team...he just a liability without bowling...\",\n",
       " b'@sanket \\xe0\\xa4\\xa8\\xe0\\xa4\\xbe\\xe0\\xa4\\xae \\xe0\\xa4\\xac\\xe0\\xa4\\xa6\\xe0\\xa4\\xb2\\xe0\\xa4\\xa8\\xe0\\xa5\\x87 \\xe0\\xa4\\xb8\\xe0\\xa5\\x87 \\xe0\\xa4\\xa6\\xe0\\xa4\\xbf\\xe0\\xa4\\x95\\xe0\\xa5\\x8d\\xe0\\xa4\\x95\\xe0\\xa4\\xa4 \\xe0\\xa4\\xb9\\xe0\\xa5\\x88 \\xe0\\xa4\\xa4\\xe0\\xa5\\x8b \\xe0\\xa4\\x96\\xe0\\xa5\\x81\\xe0\\xa4\\xb2\\xe0\\xa4\\x95\\xe0\\xa4\\xb0 \\xe0\\xa4\\xac\\xe0\\xa5\\x8b\\xe0\\xa4\\xb2\\xe0\\xa4\\xbf\\xe0\\xa4\\x8f \\xe0\\xa4\\xa8\\xe0\\xa4\\xb9\\xe0\\xa5\\x80\\xe0\\xa4\\x82 \\xe0\\xa4\\xa4\\xe0\\xa5\\x8b \\xe0\\xa4\\xb6\\xe0\\xa4\\xbe\\xe0\\xa4\\x82\\xe0\\xa4\\xa4\\xe0\\xa4\\xbf \\xe0\\xa4\\xb8\\xe0\\xa5\\x87 \\xe0\\xa4\\xac\\xe0\\xa5\\x88\\xe0\\xa4\\xa0\\xe0\\xa4\\xbf\\xe0\\xa4\\x8f |\\n \\xe0\\xa4\\x9f\\xe0\\xa5\\x8d\\xe0\\xa4\\xb5\\xe0\\xa4\\xbf\\xe0\\xa4\\x9f\\xe0\\xa4\\xb0 \\xe0\\xa4\\xaa\\xe0\\xa4\\xb0 \\xe0\\xa4\\xb0\\xe0\\xa5\\x8b \\xe0\\xa4\\x95\\xe0\\xa5\\x8d\\xe0\\xa4\\xaf\\xe0\\xa4\\xbe \\xe0\\xa4\\xb0\\xe0\\xa4\\xb9\\xe0\\xa5\\x87 \\xe0\\xa4\\xb9\\xe0\\xa5\\x88\\xe0\\xa4\\x82 \\xe0\\xa4\\x94\\xe0\\xa4\\xb0 \\xe0\\xa5\\xa4\\n#AyodhyaCantt',\n",
       " b\"@mufaddal_vohra I guess One team is Ahemdabad the other is either Guhahati or Lukhnow ...I feel it's Guhahati..\",\n",
       " b'Swara Bhaskar existence is a shame for all .. #Hindu #SwaraBhasker',\n",
       " b'@Sahastranshu19 @deepakvns2007 Hahaahahahha',\n",
       " b'@AmitShah \\xe0\\xa4\\xa6\\xe0\\xa5\\x87\\xe0\\xa4\\xb6 \\xe0\\xa4\\x95\\xe0\\xa5\\x87 \\xe0\\xa4\\xaf\\xe0\\xa4\\xb6\\xe0\\xa4\\xb8\\xe0\\xa5\\x8d\\xe0\\xa4\\xb5\\xe0\\xa5\\x80 \\xe0\\xa4\\x97\\xe0\\xa5\\x83\\xe0\\xa4\\xb9 \\xe0\\xa4\\xae\\xe0\\xa4\\x82\\xe0\\xa4\\xa4\\xe0\\xa5\\x8d\\xe0\\xa4\\xb0\\xe0\\xa5\\x80 \\xe0\\xa4\\xb6\\xe0\\xa5\\x8d\\xe0\\xa4\\xb0\\xe0\\xa5\\x80 \\xe0\\xa4\\x85\\xe0\\xa4\\xae\\xe0\\xa4\\xbf\\xe0\\xa4\\xa4 \\xe0\\xa4\\xb6\\xe0\\xa4\\xbe\\xe0\\xa4\\xb9 \\xe0\\xa4\\x9c\\xe0\\xa5\\x80 \\xe0\\xa4\\x95\\xe0\\xa5\\x8b \\xe0\\xa4\\x9c\\xe0\\xa4\\xa8\\xe0\\xa5\\x8d\\xe0\\xa4\\xae\\xe0\\xa4\\xa6\\xe0\\xa4\\xbf\\xe0\\xa4\\xa8 \\xe0\\xa4\\x95\\xe0\\xa5\\x80 \\xe0\\xa4\\xb9\\xe0\\xa4\\xbe\\xe0\\xa4\\xb0\\xe0\\xa5\\x8d\\xe0\\xa4\\xa6\\xe0\\xa4\\xbf\\xe0\\xa4\\x95 \\xe0\\xa4\\xac\\xe0\\xa4\\xa7\\xe0\\xa4\\xbe\\xe0\\xa4\\x87\\xe0\\xa4\\xaf\\xe0\\xa4\\xbe\\xe0\\xa4\\x82 l',\n",
       " b'@ShaneWarne @davidwarner31 @Eoin16 True....',\n",
       " b\"@MishiChoudhary @WhatsApp Atleast we are not chatting about Drugs on whatsapp...be safe Ma'am..\",\n",
       " b'1billion Covid vaccine \\xf0\\x9f\\x91\\x8f\\xf0\\x9f\\x91\\x8f\\xf0\\x9f\\x91\\x8fHats off \\n.',\n",
       " b'Bb ki vines is legit #Dhindora',\n",
       " b'@vinodkapri @iamsrk @BeingSalmanKhan @karanjohar @MadhuriDixit @itsKajolD @akshaykumar @ajaydevgn @mrsfunnybones @SrBachchan @realpreityzinta @yrf @duttsanjay \\xe0\\xa4\\xa8\\xe0\\xa4\\xbe \\xe0\\xa5\\xa4',\n",
       " b'RiP https://t.co/1SgOn7vM75',\n",
       " b'Bunch of dickheads... #shame poki https://t.co/GrlFt26jT9',\n",
       " b'Currently union territory of Jammu and Kashmir is under the rule of Central govt...then also we are not able to save our soldiers and migrant labourers....#Article370 #satyapalmalik @manojsinha_ @PMOIndia',\n",
       " b'Indian liberals and and some sikulars--...needs to understand @RahulGandhi is communist...not secular #raulGandy',\n",
       " b\"Capt Amrinder Singh...it's like master stroke...if @BJP4India takes back laws...credit goes to @capt_amarinder ...if not then its either the end of @INCPunjab or himself... #masterstroke #capt_sahab\",\n",
       " b'@Cricketracker Scotland,India and Srilanka...',\n",
       " b'@cricketaakash \\xe0\\xa4\\x95\\xe0\\xa5\\x87\\xe0\\xa4\\x8f\\xe0\\xa4\\xb2 \\xe0\\xa4\\xb0\\xe0\\xa4\\xbe\\xe0\\xa4\\xb9\\xe0\\xa5\\x81\\xe0\\xa4\\xb2',\n",
       " b'@ndtv \\xf0\\x9f\\x98\\x82\\xf0\\x9f\\x98\\x82\\xf0\\x9f\\x98\\x82',\n",
       " b'Burn terrorist in Kashmir #AmitShah @PMOIndia @AmitShah',\n",
       " b'@OfficialCSA is racist #shame',\n",
       " b'@ANI What the fuck... Just like this one more term of Modi sarkar guaranteed...',\n",
       " b'Nothing will happen these new Gandhis are clueless niggas https://t.co/GwHLRD4wS1',\n",
       " b'Good one @ChennaiIPL \\nGlad to see alumni of school win another ipl @msdhoni',\n",
       " b'Kkr should retain Narine,Gill and Iyer/Ferguson...build a new team..with 2 Indian wk..Go for #Joeroot leave #Morgan...no damm middle order... #CSKvsKKR',\n",
       " b'Karthik and Morgan are disaster for Kkr...no fucking middle order...Shakib and Rana are just throwing their wickets from last game...feeling sad for Iyer and Gill @KKRiders @IPL #KKR',\n",
       " b\"Morgan atleast put some fight so you don't get trolled.......#KKR\",\n",
       " b'Get well soon #ManmohanSinghji',\n",
       " b\"@imneev16 @CutestFunniest Even Morgan scored 47 not out in this year's ipl...far higher than dhoni...\\xf0\\x9f\\x98\\x82\",\n",
       " b'@ittzz_spidey If captaincy is about luck...Then Ms dhoni and Ricky ponting are luckiest.... \\xe0\\xa4\\xae\\xe0\\xa4\\xa4\\xe0\\xa4\\xb2\\xe0\\xa4\\xac \\xe0\\xa4\\xac\\xe0\\xa5\\x87\\xe0\\xa4\\xae\\xe0\\xa4\\xa4\\xe0\\xa4\\xb2\\xe0\\xa4\\xac \\xe0\\xa4\\x95\\xe0\\xa4\\xbe \\xe0\\xa4\\xb9\\xe0\\xa5\\x80 \\xe0\\xa4\\x87\\xe0\\xa4\\xa8\\xe0\\xa4\\x95\\xe0\\xa5\\x8b \\xe0\\xa4\\xb9\\xe0\\xa5\\x80\\xe0\\xa4\\xb0\\xe0\\xa5\\x8b \\xe0\\xa4\\xb8\\xe0\\xa4\\xae\\xe0\\xa4\\x9d \\xe0\\xa4\\xb0\\xe0\\xa4\\xb9\\xe0\\xa5\\x87 \\xe0\\xa4\\xb9\\xe0\\xa5\\x88\\xe0\\xa4\\x82|',\n",
       " b'I believe @ECB_cricket is monitering the @KKRiders camp.',\n",
       " b\"Two capt who are out form...Avg less than 20 and plays at 6-7..and now booooom it's #CSKvKKR leading from the front is now overrated... leading team to wins is imp @IPL @msdhoni @Eoin16 @ChennaiIPL @KKRiders\",\n",
       " b'@robin_kasukar Nope....This kkr team needs a manager...if someone else becomes the capt/manager in the final ...Kkr will collapse...just like first phase 2021 and 2020.. similarly Ms dhoni is also not in form but he just made 18 from 6 so we think he is in form...grow up..These two are gd capt',\n",
       " b'@MichaelVaughan \\xf0\\x9f\\x98\\x82',\n",
       " b\"If @KKRiders does not win @IPL this year...then it's the last year of @Eoin16 in ipl franchise..or can he be Maxwell of rcb for some other team...like the 2 new teams might go behind him...if he do wonders in @WorldT20\",\n",
       " b'@cricketaakash',\n",
       " b\"Nitish Rana needs to clam down...and I don't understand why Dk is batting above Morgan ..Last year Morgan carried the team...he should come out and play more balls when kkr is winning comfortably...I guess he is doing great while being the fielding side but worst as batting\",\n",
       " b\"@CricSaransh @cricketxanish @cricketaakash It's a team game...Mac Ans Morgan and entire kkr team deserve credit...But Morgan has lotrally managed the team well...\",\n",
       " b'Hey @ktakshish why you blocked my senior?? @Sahastranshu19',\n",
       " b'#RSS_UnitingIndia',\n",
       " b'@RanaAyyub Because we have many topics of Islamic Terrorism to talk about....',\n",
       " b'@RanaAyyub Propaganda....before action in J&amp;K good...Indians have shown patiance in dealing with people like you for past 100s of years...',\n",
       " b\"@Lostt_Soulll I guess you don't know...that players play Syed mustaq Ali trophi,vijya hazare,Ranji trophy and zone level cricket every damm year...How easy for someone like you to say 8-9ipl matches...even they have played ipl for 8-9 seasons ...as team player or net bowler..\",\n",
       " b\"@Cypher2802 @cabikashs @Lostt_Soulll Chahal post Dhoni's retirement was not good enough to please Bcci selection committee..Plus every player is selected on their Syed mustaq,Ranji,Ipl and vijya hazare basis not just 8-9 ipl matches...\",\n",
       " b\"\\xf0\\x9f\\x91\\x8d\\xf0\\x9f\\x91\\x8d\\xf0\\x9f\\x91\\x8d\\xf0\\x9f\\x91\\x8dIt's a reminder you guys trolling and giving threats to any other person on social media...exposes your upbringing. #danielchristian #RCBvKKR https://t.co/4hMQdsU1hT\",\n",
       " b'Has rcb tweeted about their toxic fans/wanna be imposters??? @RCBTweets @imVkohli giving rape threats to women ..how pathetic you guyz are...',\n",
       " b'If virat kholi leaves rcb next year(if)...then what will happen to the rcb?..any hype any thing Anymore E sala cup namde? #KKRvsRCB',\n",
       " b\"Thank you for clarifying that...we were fools..we didn't think that.. Thank you Sir https://t.co/Hh1oHnH5k3\",\n",
       " b'The middle class of India the salary bound person of India pay so many taxes..on petrol food salary...what he/she get in return... No electricity?? #electricity @AmitShah @RajKSinghIndia @PMOIndia',\n",
       " b'@Sahastranshu19 @imVkohli @msdhoni \\xf0\\x9f\\x98\\x82 capt Morgan... Morgan2caps',\n",
       " b'@RoflGandhi_ @JoeBiden Tbh wtf you just tweeted.... #shame',\n",
       " b'@Jairam_Ramesh Kuch bhi... \\xf0\\x9f\\x98\\x82\\xf0\\x9f\\x98\\x82',\n",
       " b'Tata sons has bought their son... #AirIndia',\n",
       " b'@Kisanektamorcha @aajtak @KuldipBJP @aajtak shame shame puppy shame',\n",
       " b'Why @narendramodi not doing what Ramiz is saying.. every single penny #pcb gets now is directly or indirectly going to Isi Taliban and terrorism... #taliban @AmitShah @manojsinha_ https://t.co/u5yOAp5i5E',\n",
       " b'When army will start finding these bastards ...someone like @MehboobaMufti will try pak pak pak.. @narendramodi @AmitShah @PMOIndia https://t.co/Kh6UWwk5aG',\n",
       " b\"@Deviprasad_dpm @cricketaakash Obviously...Hussey and Brendon showing cards from dugout is shame to world cup winning capt like morgan...but still in the second phase of ipl...he got a solid playing 11..one of reason behind KKR's defeats was Patt Cummins...he was out of form..\",\n",
       " b'@cricketaakash Hey hey hey hey...I feel like csk from the beginning was a champian team...while kkr was and still the underdog....like see who are the players in it... other than shubham gill who has played for India...? Give credit to morgan and dk...like you give to Msd',\n",
       " b'True af https://t.co/BIquKEu37r',\n",
       " b'Selective killing in Kashmir valley by muslim Islamist terrorist is shame to the secular Indian govt... @pmo @manojsinha_ @AmitShah do something before entire India act against you...do something that you can proudly say in up elections... #kashmir',\n",
       " b'Hey @RahulGandhi you did a wonderfull job by going to #lakhimpurkhiri and #Hathras..but now hold your balls together and once again go to #Srinagar..it will clean your image of a muslim appeaser and then #Khangress might become congress..in India @INCIndia @manojsinha_ @PMOIndia',\n",
       " b\"Pakistani Jihadists have set their targets on non muslims residential of Kashmir valley...it's the sole duty of @manojsinha_ @AmitShah to end these bastards life.. https://t.co/OpV17g2Y7E\",\n",
       " b\"With eact day passing Terrorism in J&amp;K rising... What are the actions taken against them...it's a union territory.. centre do something.. @AmitShah @manojsinha_ @PMOIndia @OmarAbdullah\",\n",
       " b'Up is the state where law bow down to the rowdys.... #LakhimpurKheriViolence #SachinPilot @INCIndia @BJP4India',\n",
       " b\"@IMFNews should not grant any more loan to @ImranKhanPTI @GovtofPakistan as..This country is the heaven of terrorist...well even if you'll give then what will happen some more guns and bullets will be bought ..\",\n",
       " b'This is shamefull @UPGovt sec 144 for oppst leaders??? Democracy gayi tel lene hm toh karenge...cool #shame #LakhimpurKheriViolence https://t.co/R2fjmk049r',\n",
       " b'@myogiadityanath does not trust the people of up? Anything crime happens he put sec 144? WHAT kinda thing is that? This is abuse of power.. Using sec 144 for everything is like denying fundamental rights .. #shame @INCIndia',\n",
       " b\"@ThtKashmiriGuy Tbh if they go... they'll get some votes....as they have a strong vote bank in j&amp;k\",\n",
       " b'Another Kashmiri pandit down in Kashmir valley... Why are we waiting? @pmo @AmitShah',\n",
       " b'@pmo @AmitShah sir pls do something after Taliban takeover these terrorist are once again destroying our heaven... #pok #j&amp;k https://t.co/0EuzxceNOq',\n",
       " b'Each character from bb ki vines #Dhindora has a special place in our hearts... @Bhuvan_Bam',\n",
       " b'@ndtvfeed WHY?',\n",
       " b\"Salman khan's driver was driving car in Lakhimpur Kheri??? @ajaymishrteni #bjp @BeingSalmanKhan @BJP4UP #FarmersProtest #FarmLaws_AgainstCommonMan\",\n",
       " b'Idk why Mamta Banerjee is being projected as the sole leader of oppst... \\xf0\\x9f\\x98\\xa9',\n",
       " b\"@rajasthanroyals KKR's jersey\",\n",
       " b'Cooooooooooomeeeee on @Facebook @instagram @WhatsApp ...do something shitty...',\n",
       " b'Dhoni and Morgan..both are liability to their team ..',\n",
       " b'@WhatsApp @Twitter Hy',\n",
       " b'Why it taking soooo long #MarkZuckerberg',\n",
       " b'@chitraaum \\xe0\\xa4\\x97\\xe0\\xa4\\xbe\\xe0\\xa4\\xa1\\xe0\\xa4\\xbc\\xe0\\xa5\\x80 \\xe0\\xa4\\xa1\\xe0\\xa5\\x8d\\xe0\\xa4\\xb0\\xe0\\xa4\\xbe\\xe0\\xa4\\x87\\xe0\\xa4\\xb5\\xe0\\xa4\\xb0 \\xe0\\xa4\\x9a\\xe0\\xa4\\xb2\\xe0\\xa4\\xbe \\xe0\\xa4\\xb0\\xe0\\xa4\\xb9\\xe0\\xa4\\xbe \\xe0\\xa4\\xb9\\xe0\\xa5\\x8b\\xe0\\xa4\\x97\\xe0\\xa4\\xbe |',\n",
       " b\"One of the worst time for @Eoin16 \\nIf kkr wins he'll get another chance but if kkr loose then it's over for morgan atleast for 1 match ..\",\n",
       " b'Congress voters are like See where America is going their business..Hdi..democracy..and  when Bjp govt do privatisation..oh oh they are selling the country..hypocrites..Privatisation is one of the most effective way to counter corruption..c in Inc stands for corruption @INCIndia',\n",
       " b'Siddhu sir maan gaye....\\xf0\\x9f\\x98\\x82. @INCIndia',\n",
       " b'@Sahastranshu19 @KapilSibal @INCIndia @BJP4India \\xf0\\x9f\\x98\\x82\\xf0\\x9f\\x98\\x82\\xf0\\x9f\\x98\\xa9',\n",
       " b'Where are other leaders of #G23 ?? Sleeping?',\n",
       " b'Who is taking decisions in congress?? #SoniaGandhi who elected her as cong Prez?? CWC? Who made CWC? @RahulGandhi or #SoniaGandhi ? @INCIndia should stop talking about democracy... Because the party shits in the name of democracy #congprezelection',\n",
       " b\"Congress....hmmmmmmm...\\n@INCIndia is the new @cpimspeak as it failed miserably as a centre party when centre right @BJP4India came to power...what's wrong...gaining leftover comrades is the last hope of survival... #india @RahulGandhi @PMOIndia  #sibbal\",\n",
       " b\"@ANI Even if we have to infiltrate india with Rohingyas will do that in order to save India's democracy...I guess he forgot that part\",\n",
       " b\"@ANI What is the ideology of congress?? Your party is infiltrating..communist you're party leader is raising his voice for illegal immigrants from Bangladesh... #fraud #inc\",\n",
       " b'Shame to the GoP of India...\\n#shame #inc @RahulGandhi @INCIndia https://t.co/0qsMxjbtPl',\n",
       " b'We know who... https://t.co/4gsR2SUeYe',\n",
       " b\"Congress is no more centre-left....it's left of centre left ..\\n#inc #KanhaiyaKumar @INCIndia @RahulGandhi\",\n",
       " b\"So.... Rajasthan you're next #punjab #pilot @INCIndia @ashokgehlot51 @sherryontopp @RahulGandhi\",\n",
       " b'Another state destroyed by congressman\\n..@capt_amarinder @sherryontopp @INCIndia',\n",
       " b'Remove illegal mosques,temples and churches... #tehri #removetehrimosque',\n",
       " b\"@RubikaLiyaquat The purpose of bandh was loss of India ...so that the govt can to the negotiation table... That's how bandh works..\",\n",
       " b'@INCIndia Itna diplomacy ab India ka 10th pass bacha bhi smjha gaya hai...lekin congress twitter handle..chalane wale ni smjhe..@INCIndia @RahulGandhi',\n",
       " b'@ANI Naxals needs to live India...and go to Afghanistan..',\n",
       " b'@RahulGandhi You fuxking Rohingya mullah supporter...',\n",
       " b'Sick people should pack their bags and leave...#IStandWithAssamPolice',\n",
       " b'Is anyone giving a damm about anything right now??? #taliban #pakistan',\n",
       " b'Infiltrators in India will not be entertained... #assam #encroachment',\n",
       " b'Kudos https://t.co/DMDhuPkERT',\n",
       " b'Appreciable... Good work #salman.... connect people to world... #cinemas',\n",
       " b\"Now as there is no funding for iron dome... #israel should now destroy #Hamas and it's allies\",\n",
       " b'@AOC is bitch....',\n",
       " b'@darensammy88 6 years ago there was no Taliban and Isi chief and pak foreign minister begging money for taliban... #terrorist #pcb',\n",
       " b\"@SajSadiqCricket Hahahaha terrorist and Covid are different...I think pak can't stand this .\\xf0\\x9f\\x98\\x82 #shamepcb\",\n",
       " b'@alok_bhatt @capt_amarinder \\xf0\\x9f\\x98\\x82',\n",
       " b'@ashokgehlot51 \\xe0\\xa4\\x9c\\xe0\\xa4\\xac \\xe0\\xa4\\x86\\xe0\\xa4\\xaa\\xe0\\xa4\\x95\\xe0\\xa5\\x80 \\xe0\\xa4\\xac\\xe0\\xa4\\xbe\\xe0\\xa4\\xb0\\xe0\\xa5\\x80 \\xe0\\xa4\\x86\\xe0\\xa4\\x8f\\xe0\\xa4\\x97\\xe0\\xa5\\x80 \\xe0\\xa4\\xa4\\xe0\\xa5\\x8b \\xe0\\xa4\\xa6\\xe0\\xa5\\x87\\xe0\\xa4\\x96\\xe0\\xa4\\xbe \\xe0\\xa4\\x9c\\xe0\\xa4\\xbe\\xe0\\xa4\\x8f\\xe0\\xa4\\x97\\xe0\\xa4\\xbe....',\n",
       " b\"Just make Siddhu cm ...and face the allegations and prove them wrong...don't shit #inc @INCIndia\",\n",
       " b\"@RahulGandhi Yeh dude .. Health workers can't for people to get vaccinated..\\xf0\\x9f\\x98\\x82jokes on you Mr.Gandhi\",\n",
       " b\"@smitaprakash Capt...trying make his voice heard in Delhi...because Punjabis just don't care about him right now....His future political choices are limited...if he joins he won't be cm ever...cong will never him any post..because every thing is Sonia Gandhi..He is just Retired politician ..\",\n",
       " b'@Sahastranshu19 @Partap_Sbajwa After character assassination of @sherryontopp ....someone from the legislative assembly will not be the cm.... 70-80% sure',\n",
       " b'Once again a dictatorial lady Sonia Gandhi...will decide the cm of democratic state of Punjab which has 110+democratically elected MLAs....shame...to the congress #AmrinderSinghresigns #inc #RahulGandhiLiar',\n",
       " b\"If @AamAadmiParty succeeds in forming the govt after punjab election...then don't be surprised if any other party (@AamAadmiParty ) does the same nationwide.\",\n",
       " b'Congress presidential election ....when???? @RahulGandhi @priyankagandhi @INCIndia @INC_Television @BJP4India @PMOIndia @NDTVElections',\n",
       " b'@PChidambaram_IN They performed so much ...on his birthday ..that the other so called performing state are far behind...#nonperforming state ..pity former cabinet minister',\n",
       " b'@DrAMSinghvi I am loving it.... @DrAMSinghvi',\n",
       " b'@ANI Getting votes is fluke for this lok sabha MP...',\n",
       " b'@realshoaibmalik Because Taliban was not in power when Sl,Sa,wi and Zim toured... Pakistan....understand it mr Malik .',\n",
       " b\"@capt_amarinder is not a slave of gandy's... #inc #RahulGandhi @RahulGandhi\",\n",
       " b'@KamiAkmal23 Yeh...die but play cricket in Pakistani grounds...good one',\n",
       " b'@MichaelVaughan Yep Sir...I guess England team will go there and play...even if mi6 and other agency will show danger...good cricket is above Terrorist attacks...\\xf0\\x9f\\x99\\x82',\n",
       " b'@babarazam258 Ok...save children in schools before lecturing a first world country...##no.1',\n",
       " b'@Yasir_HameedQ A country which believes in good and bad terrorist cannot be declared as safe country... alhamdulillah',\n",
       " b\"@t_d_h_nair It's bilateral...people of India as well as the health workers did this ....to celebrate birthday of @narendramodi\",\n",
       " b\"@iramizraja NZ is living in the same world...in which Sri Lankan cricket team was terrorise by pak terrorist...and after open support and assistance to Taliban...it's clear\",\n",
       " b'@DennisCricket_ A day of joy for humanity...and human rights']"
      ]
     },
     "execution_count": 43,
     "metadata": {},
     "output_type": "execute_result"
    }
   ],
   "source": [
    "tweet_text"
   ]
  },
  {
   "cell_type": "code",
   "execution_count": 44,
   "metadata": {},
   "outputs": [
    {
     "name": "stdout",
     "output_type": "stream",
     "text": [
      "\n",
      "          ID: 1459990182560600069\n",
      "          Date Posted: 2021-11-14 21:02:39+00:00\n",
      "          Tweet: b'@INCMP Chhattisgarh aur jharkhand ko option me q ni rkha?? Waha adivasi ni rehte?.'\n",
      "          \n",
      "\n",
      "          ID: 1459782813960441859\n",
      "          Date Posted: 2021-11-14 07:18:38+00:00\n",
      "          Tweet: b'What is trending on twitter is just shamefull #happychildrensday'\n",
      "          \n",
      "\n",
      "          ID: 1459617988491894788\n",
      "          Date Posted: 2021-11-13 20:23:41+00:00\n",
      "          Tweet: b'Chinese propaganda videos (inventions,gym,food) is all over Indian Instagram reels and meme pages...This is a calculated way to fool Indian users and create some sympathy or attraction towards China .. @ianuragthakur @HmlEmpire'\n",
      "          \n"
     ]
    }
   ],
   "source": [
    "for i in all_tweets[:3]:\n",
    "    print(f'''\n",
    "          ID: {i['ID']}\n",
    "          Date Posted: {i['Date_time_posted']}\n",
    "          Tweet: {i['Text']}\n",
    "          ''')\n"
   ]
  },
  {
   "cell_type": "code",
   "execution_count": 48,
   "metadata": {},
   "outputs": [],
   "source": [
    "user_tweets=pd.DataFrame(tweet_text,columns=['Tweets'])"
   ]
  },
  {
   "cell_type": "code",
   "execution_count": 50,
   "metadata": {},
   "outputs": [],
   "source": [
    "user_tweets.to_csv('user_tweets.csv')"
   ]
  },
  {
   "cell_type": "code",
   "execution_count": null,
   "metadata": {},
   "outputs": [],
   "source": []
  }
 ],
 "metadata": {
  "interpreter": {
   "hash": "31f2aee4e71d21fbe5cf8b01ff0e069b9275f58929596ceb00d14d90e3e16cd6"
  },
  "kernelspec": {
   "display_name": "Python 3.9.7 64-bit",
   "language": "python",
   "name": "python3"
  },
  "language_info": {
   "codemirror_mode": {
    "name": "ipython",
    "version": 3
   },
   "file_extension": ".py",
   "mimetype": "text/x-python",
   "name": "python",
   "nbconvert_exporter": "python",
   "pygments_lexer": "ipython3",
   "version": "3.9.7"
  },
  "orig_nbformat": 4
 },
 "nbformat": 4,
 "nbformat_minor": 2
}
