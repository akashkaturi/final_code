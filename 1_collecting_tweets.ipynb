{
 "cells": [
  {
   "cell_type": "markdown",
   "metadata": {},
   "source": [
    "# Data Collection using Twitter API"
   ]
  },
  {
   "cell_type": "markdown",
   "metadata": {},
   "source": [
    "# Libraries"
   ]
  },
  {
   "cell_type": "code",
   "execution_count": 1,
   "metadata": {},
   "outputs": [],
   "source": [
    "import tweepy as tw\n",
    "import json\n",
    "from tweepy import OAuthHandler\n",
    "import pandas as pd"
   ]
  },
  {
   "cell_type": "code",
   "execution_count": 2,
   "metadata": {},
   "outputs": [],
   "source": [
    "with open('f.json') as f:\n",
    "    data = json.load(f)\n",
    "API_KEY = data['apikey']\n",
    "SECRET_KEY = data['apikeysecret']\n",
    "ACCESS_TOKEN = data['accesstoken']\n",
    "SECRET_TOKEN = data['accesstokensecret']\n",
    "auth = tw.OAuthHandler(API_KEY, SECRET_KEY)\n",
    "auth.set_access_token(ACCESS_TOKEN, SECRET_TOKEN)\n",
    "api = tw.API(auth, wait_on_rate_limit=True)\n"
   ]
  },
  {
   "cell_type": "markdown",
   "metadata": {},
   "source": [
    "**This block is used To Detect whether the text language is English or not. And it collects only English tweets.**"
   ]
  },
  {
   "cell_type": "code",
   "execution_count": 41,
   "metadata": {},
   "outputs": [
    {
     "name": "stdout",
     "output_type": "stream",
     "text": [
      "('ENGLISH', 'en', 99, 603.0)\n",
      "English\n",
      "('Unknown', 'un', 0, 0.0)\n",
      "('Unknown', 'un', 0, 0.0)\n"
     ]
    }
   ],
   "source": [
    "import pycld2 as td\n",
    "detected_language = td.detect(text_content)\n",
    "for i in detected_language[2]:\n",
    "    if i[0]=='ENGLISH' and i[2]>90:\n",
    "        print(i)\n",
    "        print('English')\n",
    "    else:\n",
    "        print(i)\n"
   ]
  },
  {
   "cell_type": "markdown",
   "metadata": {},
   "source": [
    "**Downloading tweets of a trending topic in twitter without including retweets**"
   ]
  },
  {
   "cell_type": "code",
   "execution_count": 58,
   "metadata": {},
   "outputs": [
    {
     "name": "stdout",
     "output_type": "stream",
     "text": [
      "#KanganaRanaut Insulted Indian Freedom Fighters- @TimesNow \n",
      "\n",
      "Shame on #kanganaranuat https://t.co/oKiTXktjNN\n",
      "SPECIAL BUT SHORT TIPS FOR SELF IMPROVEMENT :-\n",
      "\n",
      "*GENIOUS https://t.co/JVNMiMWcrl\n",
      "\n",
      "*WORK https://t.co/jKOosA5gXj\n",
      "\n",
      "*ATTITUDE https://t.co/H1dkUjhS4A\n",
      "\n",
      "#Attacca交換 #ATM奴 #ATENCION #BertNewton #EliminacaoAFazenda #ELON #ElonMusk #ELOIN #NationalCrushNIDHHI #RacistJoe #kanganaranuat\n"
     ]
    }
   ],
   "source": [
    "search_words = \"#kanganaranuat -filter:retweets\"\n",
    "\n",
    "counter = 0\n",
    "for tweet in tw.Cursor(api.search_tweets, tweet_mode='extended', q=search_words, lang=\"en\").items():\n",
    "    # print('Tweet Downloaded: ', counter)\n",
    "    tweet_text=tweet.full_text\n",
    "    detected_language = td.detect(tweet_text)\n",
    "    for i in detected_language[2]:\n",
    "        if i[0] == 'ENGLISH' and i[2] > 90:\n",
    "            print(tweet_text)\n",
    "    counter += 1\n",
    "    if counter >= 3:\n",
    "        break\n",
    "\n",
    "tweet_dataset = pd.DataFrame(columns=['Tweet Id', 'Screen Name', 'User ID','Tweet Text'])\n"
   ]
  },
  {
   "cell_type": "markdown",
   "metadata": {},
   "source": [
    "**Storing the Collected data in a Data-Set**"
   ]
  },
  {
   "cell_type": "code",
   "execution_count": 61,
   "metadata": {},
   "outputs": [],
   "source": [
    "counter = 0\n",
    "for tweet in tw.Cursor(api.search_tweets, tweet_mode='extended', q=search_words, lang=\"en\").items():\n",
    "    tweet_text = tweet.full_text.encode('utf-8')\n",
    "    detected_language = td.detect(tweet_text)\n",
    "    for i in detected_language[2]:\n",
    "        if i[0] == 'ENGLISH' and i[2] > 90:\n",
    "            appending_dataframe = pd.DataFrame([[tweet.id, tweet.user.screen_name, tweet.user.id,tweet_text]], \n",
    "                                               columns=['Tweet Id', 'Screen Name', 'User ID', 'Tweet Text'])\n",
    "            tweet_dataset = tweet_dataset.append(appending_dataframe)\n",
    "    counter += 1\n",
    "    if counter >= 2000:\n",
    "        break\n"
   ]
  },
  {
   "cell_type": "code",
   "execution_count": 62,
   "metadata": {},
   "outputs": [
    {
     "data": {
      "text/html": [
       "<div>\n",
       "<style scoped>\n",
       "    .dataframe tbody tr th:only-of-type {\n",
       "        vertical-align: middle;\n",
       "    }\n",
       "\n",
       "    .dataframe tbody tr th {\n",
       "        vertical-align: top;\n",
       "    }\n",
       "\n",
       "    .dataframe thead th {\n",
       "        text-align: right;\n",
       "    }\n",
       "</style>\n",
       "<table border=\"1\" class=\"dataframe\">\n",
       "  <thead>\n",
       "    <tr style=\"text-align: right;\">\n",
       "      <th></th>\n",
       "      <th>Tweet Id</th>\n",
       "      <th>Screen Name</th>\n",
       "      <th>User ID</th>\n",
       "      <th>Tweet Text</th>\n",
       "    </tr>\n",
       "  </thead>\n",
       "  <tbody>\n",
       "    <tr>\n",
       "      <th>0</th>\n",
       "      <td>1459183309058052104</td>\n",
       "      <td>WarNishant</td>\n",
       "      <td>1435278663679823882</td>\n",
       "      <td>b'#KanganaRanaut Insulted Indian Freedom Fight...</td>\n",
       "    </tr>\n",
       "    <tr>\n",
       "      <th>0</th>\n",
       "      <td>1459183134524653575</td>\n",
       "      <td>MOTIVETED_WORLD</td>\n",
       "      <td>1434181035281903622</td>\n",
       "      <td>b'SPECIAL BUT SHORT TIPS FOR SELF IMPROVEMENT ...</td>\n",
       "    </tr>\n",
       "    <tr>\n",
       "      <th>0</th>\n",
       "      <td>1459182824733376513</td>\n",
       "      <td>R_prajapati03</td>\n",
       "      <td>1855090232</td>\n",
       "      <td>b\"#kanganaranuat  entire bollywood industry pu...</td>\n",
       "    </tr>\n",
       "    <tr>\n",
       "      <th>0</th>\n",
       "      <td>1459182696807104517</td>\n",
       "      <td>haseebsiddique</td>\n",
       "      <td>131826354</td>\n",
       "      <td>b'#JustAsking\\nNext should we expect #BharatRa...</td>\n",
       "    </tr>\n",
       "    <tr>\n",
       "      <th>0</th>\n",
       "      <td>1459183309058052104</td>\n",
       "      <td>WarNishant</td>\n",
       "      <td>1435278663679823882</td>\n",
       "      <td>b'#KanganaRanaut Insulted Indian Freedom Fight...</td>\n",
       "    </tr>\n",
       "  </tbody>\n",
       "</table>\n",
       "</div>"
      ],
      "text/plain": [
       "              Tweet Id      Screen Name              User ID  \\\n",
       "0  1459183309058052104       WarNishant  1435278663679823882   \n",
       "0  1459183134524653575  MOTIVETED_WORLD  1434181035281903622   \n",
       "0  1459182824733376513    R_prajapati03           1855090232   \n",
       "0  1459182696807104517   haseebsiddique            131826354   \n",
       "0  1459183309058052104       WarNishant  1435278663679823882   \n",
       "\n",
       "                                          Tweet Text  \n",
       "0  b'#KanganaRanaut Insulted Indian Freedom Fight...  \n",
       "0  b'SPECIAL BUT SHORT TIPS FOR SELF IMPROVEMENT ...  \n",
       "0  b\"#kanganaranuat  entire bollywood industry pu...  \n",
       "0  b'#JustAsking\\nNext should we expect #BharatRa...  \n",
       "0  b'#KanganaRanaut Insulted Indian Freedom Fight...  "
      ]
     },
     "execution_count": 62,
     "metadata": {},
     "output_type": "execute_result"
    }
   ],
   "source": [
    "tweet_dataset.head()"
   ]
  },
  {
   "cell_type": "code",
   "execution_count": null,
   "metadata": {},
   "outputs": [],
   "source": [
    "tweet_dataset.to_csv('twitter_collected_data.csv')"
   ]
  },
  {
   "cell_type": "code",
   "execution_count": 64,
   "metadata": {},
   "outputs": [
    {
     "data": {
      "text/plain": [
       "831"
      ]
     },
     "execution_count": 64,
     "metadata": {},
     "output_type": "execute_result"
    }
   ],
   "source": [
    "len(tweet_dataset)"
   ]
  }
 ],
 "metadata": {
  "interpreter": {
   "hash": "31f2aee4e71d21fbe5cf8b01ff0e069b9275f58929596ceb00d14d90e3e16cd6"
  },
  "kernelspec": {
   "display_name": "Python 3.9.7 64-bit",
   "language": "python",
   "name": "python3"
  },
  "language_info": {
   "codemirror_mode": {
    "name": "ipython",
    "version": 3
   },
   "file_extension": ".py",
   "mimetype": "text/x-python",
   "name": "python",
   "nbconvert_exporter": "python",
   "pygments_lexer": "ipython3",
   "version": "3.9.7"
  },
  "orig_nbformat": 4
 },
 "nbformat": 4,
 "nbformat_minor": 2
}
